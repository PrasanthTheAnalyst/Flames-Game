{
  "nbformat": 4,
  "nbformat_minor": 0,
  "metadata": {
    "colab": {
      "name": "Flames game.ipynb",
      "provenance": [],
      "collapsed_sections": [],
      "authorship_tag": "ABX9TyOLDWh12sm3utj7bnpiBixZ",
      "include_colab_link": true
    },
    "kernelspec": {
      "name": "python3",
      "display_name": "Python 3"
    },
    "language_info": {
      "name": "python"
    }
  },
  "cells": [
    {
      "cell_type": "markdown",
      "metadata": {
        "id": "view-in-github",
        "colab_type": "text"
      },
      "source": [
        "<a href=\"https://colab.research.google.com/github/PrasanthTheAnalyst/Flames-Game/blob/main/Flames_game.ipynb\" target=\"_parent\"><img src=\"https://colab.research.google.com/assets/colab-badge.svg\" alt=\"Open In Colab\"/></a>"
      ]
    },
    {
      "cell_type": "code",
      "metadata": {
        "colab": {
          "base_uri": "https://localhost:8080/"
        },
        "id": "2kBzV3a4wfW9",
        "outputId": "a8923370-9dfd-428d-cd65-89e9aa9db31d"
      },
      "source": [
        "#Flames Game\n",
        "\n",
        "name1 = input(\"enter first name:\")\n",
        "name2 = input(\"enter second name:\")\n",
        "count = 0\n",
        "count1=0\n",
        "for i in name1:\n",
        "  if(i not in name2):\n",
        "    a = i\n",
        "    count =count+1\n",
        "#print(count)\n",
        "    #f = ' '.join(a)\n",
        "\n",
        "    #print(a)\n",
        "for j in name2:\n",
        "  if(j not in name1):\n",
        "    count1 =count1+1\n",
        "#print(count1)\n",
        "    b = j\n",
        "    #g = ' '.join(b)\n",
        "    #print(b)\n",
        "leng = count + count1\n",
        "\n",
        "flames =\"FLAMES\"\n",
        "if(leng ==1):\n",
        "  print(\"Sisters\")\n",
        "elif(leng ==2 or leng ==4 or leng ==7 or leng ==9):\n",
        "  print(\"Enemies\")\n",
        "elif(leng ==3 or leng ==5):\n",
        "  print(\"Friends\")\n",
        "elif(leng ==6):\n",
        "  print(\"Marriage\")\n",
        "elif(leng ==8):\n",
        "  print(\"Affection\")\n",
        "elif(leng ==10):\n",
        "  print(\"Lovers\")\n",
        "else:\n",
        "  print(\"No Relation!\")"
      ],
               
        }
      ]
    }
  ]
}
